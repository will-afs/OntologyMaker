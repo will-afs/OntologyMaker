{
 "cells": [
  {
   "cell_type": "markdown",
   "metadata": {},
   "source": [
    "# Importing articles from macrostructure.json"
   ]
  },
  {
   "cell_type": "code",
   "execution_count": 40,
   "metadata": {},
   "outputs": [],
   "source": [
    "import json\n",
    "\n",
    "with open(\"resources/macrostructure.json\", \"r\") as macrostructure_file:\n",
    "    articles_list = json.load(macrostructure_file)"
   ]
  },
  {
   "cell_type": "markdown",
   "metadata": {},
   "source": [
    "# Creating the ontology"
   ]
  },
  {
   "cell_type": "code",
   "execution_count": 41,
   "metadata": {},
   "outputs": [],
   "source": [
    "from owlready2 import owlready2, get_ontology, sync_reasoner_pellet, Thing, Not, And, default_world, AllDifferent, AllDisjoint, Imp"
   ]
  },
  {
   "cell_type": "code",
   "execution_count": 42,
   "metadata": {},
   "outputs": [],
   "source": [
    "owlready2.JAVA_EXE='/usr/bin/java'"
   ]
  },
  {
   "cell_type": "code",
   "execution_count": 43,
   "metadata": {},
   "outputs": [],
   "source": [
    "# Fetch root ontology\n",
    "onto = get_ontology(\"http://authors_relations.org/onto.owl\")"
   ]
  },
  {
   "cell_type": "code",
   "execution_count": 44,
   "metadata": {},
   "outputs": [],
   "source": [
    "# Create ontology classes\n",
    "with onto :\n",
    "    class Author(Thing):\n",
    "        pass\n",
    "\n",
    "    class Article(Thing):\n",
    "        is_a = [Not(onto.Author)]\n",
    "\n",
    "    class is_author_of(Author >> Article): pass\n",
    "\n",
    "    class is_written_by(Article >> Author): pass\n",
    "    \n",
    "    class cites(Author >> Author): pass\n",
    "\n",
    "    class worked_with(Author >> Author): pass\n",
    "\n",
    "    class is_cited_by(Author >> Author): pass\n",
    "\n",
    "    class is_cited_in(Author >> Article): pass\n",
    "\n",
    "    class CitedAuthor(Thing):\n",
    "        equivalent_to = [And([Author, is_cited_by.some(Author), is_cited_in.some(Article)])]"
   ]
  },
  {
   "cell_type": "code",
   "execution_count": 46,
   "metadata": {},
   "outputs": [
    {
     "name": "stdout",
     "output_type": "stream",
     "text": [
      "[onto.article1, onto.article2, onto.article3, onto.article4, onto.article5, onto.article6, onto.article7, onto.article8, onto.article9, onto.article10, onto.article11, onto.article12, onto.article13, onto.article14, onto.article15, onto.article16, onto.article17, onto.article18, onto.article19, onto.article20, onto.article21, onto.article22, onto.article23, onto.article24, onto.article25, onto.article26, onto.article27, onto.article28, onto.article29, onto.article30, onto.article31, onto.article32, onto.article33, onto.article34, onto.article35, onto.article36, onto.article37, onto.article38, onto.article39, onto.article40, onto.article41, onto.article42, onto.article43, onto.article44, onto.article45, onto.article46, onto.article47, onto.article48, onto.article49, onto.article50, onto.article51, onto.article52, onto.article53, onto.article54, onto.article55, onto.article56, onto.article57, onto.article58, onto.article59, onto.article60, onto.article61, onto.article62, onto.article63, onto.article64, onto.article65, onto.article66, onto.article67, onto.article68, onto.article69, onto.article70, onto.article71, onto.article72, onto.article73, onto.article74, onto.article75, onto.article76, onto.article77, onto.article78, onto.article79, onto.article80, onto.article81, onto.article82, onto.article83, onto.article84, onto.article85, onto.article86, onto.article87, onto.article88, onto.article89, onto.article90, onto.article91, onto.article92, onto.article93, onto.article94, onto.article95, onto.article96, onto.article97, onto.article98, onto.article99, onto.article100, onto.article101, onto.article102, onto.article103, onto.article104, onto.article105, onto.article106, onto.article107, onto.article108, onto.article109, onto.article110, onto.article111, onto.article112, onto.article113, onto.article114, onto.article115, onto.article116, onto.article117, onto.article118, onto.article119, onto.article120, onto.article121, onto.article122, onto.article123, onto.article124, onto.article125, onto.article126, onto.article127, onto.article128, onto.article129, onto.article130, onto.article131, onto.article132, onto.article133, onto.article134, onto.article135, onto.article136, onto.article137, onto.article138, onto.article139, onto.article140, onto.article141, onto.article142, onto.article143, onto.article144, onto.article145, onto.article146, onto.article147, onto.article148, onto.article149, onto.article150, onto.article151, onto.article152, onto.article153, onto.article154, onto.article155, onto.article156, onto.article157, onto.article158, onto.article159, onto.article160, onto.article161, onto.article162, onto.article163, onto.article164, onto.article165, onto.article166, onto.article167, onto.article168, onto.article169, onto.article170, onto.article171, onto.article172, onto.article173, onto.article174, onto.article175, onto.article176, onto.article177, onto.article178, onto.article179, onto.article180, onto.article181, onto.article182, onto.article183, onto.article184, onto.article185, onto.article186, onto.article187, onto.article188, onto.article189, onto.article190, onto.article191, onto.article192, onto.article193, onto.article194, onto.article195, onto.article196, onto.article197, onto.article198, onto.article199, onto.article200, onto.article201, onto.article202, onto.article203, onto.article204, onto.article205, onto.article206, onto.article207, onto.article208, onto.article209, onto.article210, onto.article211, onto.article212, onto.article213, onto.article214, onto.article215, onto.article216, onto.article217, onto.article218, onto.article219, onto.article220, onto.article221, onto.article222, onto.article223, onto.article224, onto.article225, onto.article226, onto.article227, onto.article228, onto.article229, onto.article230, onto.article231, onto.article232, onto.article233, onto.article234, onto.article235, onto.article236, onto.article237, onto.article238, onto.article239, onto.article240, onto.article241, onto.article242, onto.article243, onto.article244, onto.article245, onto.article246, onto.article247, onto.article248, onto.article249, onto.article250, onto.article251, onto.article252, onto.article253, onto.article254, onto.article255, onto.article256, onto.article257, onto.article258, onto.article259, onto.article260, onto.article261, onto.article262, onto.article263, onto.article264, onto.article265, onto.article266, onto.article267, onto.article268, onto.article269, onto.article270, onto.article271, onto.article272, onto.article273, onto.article274, onto.article275, onto.article276, onto.article277, onto.article278, onto.article279, onto.article280, onto.article281, onto.article282, onto.article283, onto.article284, onto.article285, onto.article286, onto.article287, onto.article288, onto.article289, onto.article290, onto.article291, onto.article292, onto.article293, onto.article294, onto.article295, onto.article296, onto.article297, onto.article298, onto.article299, onto.article300, onto.article301, onto.article302, onto.article303, onto.article304, onto.article305, onto.article306, onto.article307, onto.article308, onto.article309, onto.article310, onto.article311, onto.article312, onto.article313, onto.article314, onto.article315, onto.article316, onto.article317, onto.article318, onto.article319, onto.article320, onto.article321, onto.article322, onto.article323, onto.article324, onto.article325, onto.article326, onto.article327, onto.article328, onto.article329, onto.article330, onto.article331, onto.article332, onto.article333, onto.article334, onto.article335, onto.article336, onto.article337, onto.article338, onto.article339, onto.article340, onto.article341, onto.article342, onto.article343, onto.article344, onto.article345, onto.article346, onto.article347, onto.article348, onto.article349, onto.article350, onto.article351, onto.article352, onto.article353, onto.article354, onto.article355, onto.article356, onto.article357, onto.article358, onto.article359, onto.article360, onto.article361, onto.article362, onto.article363, onto.article364, onto.article365, onto.article366, onto.article367, onto.article368, onto.article369, onto.article370, onto.article371, onto.article372]\n"
     ]
    }
   ],
   "source": [
    "from cleaner_utils.cleaner_custom import escape_iri, escape_value\n",
    "\n",
    "# Populating individuals in ontology\n",
    "with onto:\n",
    "    for article in articles_list:\n",
    "        uri = article['uri']\n",
    "        urn = uri.replace(\"http://arxiv.org/pdf/cs/\",\"\")\n",
    "        article_object = onto.Article(\n",
    "            urn=escape_iri(urn),\n",
    "            )\n",
    "        for article_author in article['authors']:\n",
    "            try:\n",
    "                # Look for article_author (if already created in ontology)\n",
    "                author_object = onto.search(iri=\"*{}\".format(escape_iri(article_author)))[0]\n",
    "            except IndexError:\n",
    "                # Create it otherwise\n",
    "                author_object = onto.Author(\n",
    "                    name=escape_iri(article_author)\n",
    "                )\n",
    "            article_object.is_written_by.append(author_object)\n",
    "        for reference in article['references']:\n",
    "            for cited_author in reference['authors']:\n",
    "                try:\n",
    "                    # Look for cited_author (if already created in ontology)\n",
    "                    cited_author_object = onto.search(iri=\"*{}\".format(escape_iri(cited_author)))[0]\n",
    "                except IndexError:\n",
    "                    # Create it otherwise\n",
    "                    cited_author_object = onto.Author(\n",
    "                        name=escape_iri(cited_author)\n",
    "                    )\n",
    "                cited_author_object = onto.Author(\n",
    "                    name=escape_iri(cited_author)\n",
    "                )\n",
    "                if article_object not in cited_author_object.is_cited_in:\n",
    "                    cited_author_object.is_cited_in.append(article_object)\n",
    "            \n",
    "    print(onto.Article.instances())"
   ]
  },
  {
   "cell_type": "markdown",
   "metadata": {},
   "source": [
    "# Defining reasoner rules"
   ]
  },
  {
   "cell_type": "code",
   "execution_count": 50,
   "metadata": {},
   "outputs": [],
   "source": [
    "# Creating the Imply rules\n",
    "with onto:\n",
    "    imp = Imp()\n",
    "    # Defining a new rule : the author A of an article B from which another author C is cited, cites him\n",
    "    imp.set_as_rule(\"\"\"is_author_of(?a,?b), is_cited_in(?c, ?b) -> cites(?a, ?c) \"\"\")\n",
    "    \n",
    "    # Defining a new rule : If an author A cites an author B, the author B is cited by A\n",
    "    imp.set_as_rule(\"\"\"cites(?a, ?b) -> is_cited_by(?b, ?a) \"\"\")\n",
    "\n",
    "    # Defining a new rule : If A and B are both authors of the same article, then A worked with B\n",
    "    imp.set_as_rule(\"\"\"is_author_of(?a,?c), is_author_of(?b,?c) -> worked_with(?a, ?b) \"\"\")\n",
    "\n",
    "    # Defining a new rule (reciprocity) : If author A worked with author B, then B worked with A\n",
    "    imp.set_as_rule(\"\"\"worked_with(?a, ?b) -> worked_with(?b, ?a) \"\"\")"
   ]
  },
  {
   "cell_type": "markdown",
   "metadata": {},
   "source": [
    "# Applying rules to infer new relations in the ontology"
   ]
  },
  {
   "cell_type": "code",
   "execution_count": 51,
   "metadata": {},
   "outputs": [
    {
     "name": "stderr",
     "output_type": "stream",
     "text": [
      "* Owlready2 * Running Pellet...\n",
      "    /usr/bin/java -Xmx2000M -cp /home/william/Programming/OntologyMaker/.venv/lib/python3.8/site-packages/owlready2/pellet/commons-codec-1.6.jar:/home/william/Programming/OntologyMaker/.venv/lib/python3.8/site-packages/owlready2/pellet/slf4j-log4j12-1.6.4.jar:/home/william/Programming/OntologyMaker/.venv/lib/python3.8/site-packages/owlready2/pellet/jena-iri-0.9.5.jar:/home/william/Programming/OntologyMaker/.venv/lib/python3.8/site-packages/owlready2/pellet/jena-arq-2.10.0.jar:/home/william/Programming/OntologyMaker/.venv/lib/python3.8/site-packages/owlready2/pellet/xml-apis-1.4.01.jar:/home/william/Programming/OntologyMaker/.venv/lib/python3.8/site-packages/owlready2/pellet/antlr-3.2.jar:/home/william/Programming/OntologyMaker/.venv/lib/python3.8/site-packages/owlready2/pellet/jcl-over-slf4j-1.6.4.jar:/home/william/Programming/OntologyMaker/.venv/lib/python3.8/site-packages/owlready2/pellet/xercesImpl-2.10.0.jar:/home/william/Programming/OntologyMaker/.venv/lib/python3.8/site-packages/owlready2/pellet/jena-core-2.10.0.jar:/home/william/Programming/OntologyMaker/.venv/lib/python3.8/site-packages/owlready2/pellet/aterm-java-1.6.jar:/home/william/Programming/OntologyMaker/.venv/lib/python3.8/site-packages/owlready2/pellet/log4j-1.2.16.jar:/home/william/Programming/OntologyMaker/.venv/lib/python3.8/site-packages/owlready2/pellet/httpcore-4.2.2.jar:/home/william/Programming/OntologyMaker/.venv/lib/python3.8/site-packages/owlready2/pellet/owlapi-distribution-3.4.3-bin.jar:/home/william/Programming/OntologyMaker/.venv/lib/python3.8/site-packages/owlready2/pellet/jgrapht-jdk1.5.jar:/home/william/Programming/OntologyMaker/.venv/lib/python3.8/site-packages/owlready2/pellet/antlr-runtime-3.2.jar:/home/william/Programming/OntologyMaker/.venv/lib/python3.8/site-packages/owlready2/pellet/httpclient-4.2.3.jar:/home/william/Programming/OntologyMaker/.venv/lib/python3.8/site-packages/owlready2/pellet/jena-tdb-0.10.0.jar:/home/william/Programming/OntologyMaker/.venv/lib/python3.8/site-packages/owlready2/pellet/slf4j-api-1.6.4.jar:/home/william/Programming/OntologyMaker/.venv/lib/python3.8/site-packages/owlready2/pellet/pellet-2.3.1.jar pellet.Pellet realize --loader Jena --input-format N-Triples --infer-prop-values --infer-data-prop-values --ignore-imports /tmp/tmp2l0rbzeu\n",
      "* Owlready2 * Pellet took 2.6645264625549316 seconds\n",
      "* Owlready * (NB: only changes on entities loaded in Python are shown, other changes are done but not listed)\n"
     ]
    }
   ],
   "source": [
    "# Synchronizing reasoner to apply rules\n",
    "with onto:\n",
    "    sync_reasoner_pellet([onto], infer_property_values=True, infer_data_property_values=True, debug=True, keep_tmp_file=True)"
   ]
  },
  {
   "cell_type": "markdown",
   "metadata": {},
   "source": [
    "# Saving the ontology in a file"
   ]
  },
  {
   "cell_type": "code",
   "execution_count": 12,
   "metadata": {},
   "outputs": [],
   "source": [
    "# Save the ontology\n",
    "onto.save(file = \"authors_relations.owl\")"
   ]
  }
 ],
 "metadata": {
  "interpreter": {
   "hash": "b77770f66b54ee3b66e0336be670941170105acf4e3853567ca5709bd62588f7"
  },
  "kernelspec": {
   "display_name": "Python 3.10.4 ('.venv': venv)",
   "language": "python",
   "name": "python3"
  },
  "language_info": {
   "codemirror_mode": {
    "name": "ipython",
    "version": 3
   },
   "file_extension": ".py",
   "mimetype": "text/x-python",
   "name": "python",
   "nbconvert_exporter": "python",
   "pygments_lexer": "ipython3",
   "version": "3.8.10"
  },
  "orig_nbformat": 4
 },
 "nbformat": 4,
 "nbformat_minor": 2
}
