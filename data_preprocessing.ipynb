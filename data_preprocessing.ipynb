{
 "cells": [
  {
   "cell_type": "markdown",
   "metadata": {},
   "source": [
    "# Macrostructure pre-processor"
   ]
  },
  {
   "cell_type": "markdown",
   "metadata": {},
   "source": [
    "Load the raw macrostructure"
   ]
  },
  {
   "cell_type": "code",
   "execution_count": 11,
   "metadata": {},
   "outputs": [],
   "source": [
    "\n",
    "import json\n",
    "\n",
    "with open(\"resources/raw_macrostructure.json\", \"r\") as raw_macrostructure_file:\n",
    "    raw_macrostructure = json.load(raw_macrostructure_file)"
   ]
  },
  {
   "cell_type": "markdown",
   "metadata": {},
   "source": [
    "Remove unnecessary content"
   ]
  },
  {
   "cell_type": "code",
   "execution_count": 12,
   "metadata": {},
   "outputs": [],
   "source": [
    "clean_macrostructure = []\n",
    "for json_item in raw_macrostructure:\n",
    "    if json_item[\"status\"] == \"Success\":\n",
    "        clean_macrostructure.append(json_item[\"full_response\"][\"body\"])"
   ]
  },
  {
   "cell_type": "markdown",
   "metadata": {},
   "source": [
    "Escape dirty  PDF authors field"
   ]
  },
  {
   "cell_type": "code",
   "execution_count": 17,
   "metadata": {},
   "outputs": [],
   "source": [
    "# Escape dirty chars\n",
    "escape_chars = {\n",
    "    \"\\u000b\":\"ff\",\n",
    "    \"\\r\":\"le\",\n",
    "    \"\\u0014\":\"c\",\n",
    "    \"\\u0012\":\"è\",\n",
    "    \"\\u0013\":\"é\",\n",
    "    \"\\f\":\"fil\",\n",
    "    \"\\u0018\":\"c\",\n",
    "    \"\\u0015\":\"\",\n",
    "    \"\\u00f1\":\"\",\n",
    "    \"\\u00fa\":\"\",\n",
    "    \"\\u00e6\":\"\",\n",
    "    \"\\u0019\":\"\",\n",
    "    \"\\u007f\":\"\",\n",
    "    \"\\u00a8\":\"\",\n",
    "    \"\\u00b4\":\"\",\n",
    "    \"\\u00a8\":\"\",\n",
    "}\n",
    "#from xml.sax.saxutils import escape\n",
    "clean_macrostructure_txt = json.dumps(clean_macrostructure)\n",
    "clean_macrostructure_txt = clean_macrostructure_txt.encode(\"utf-8\").decode(\"utf-8\")\n",
    "for key, value in escape_chars.items():\n",
    "    clean_macrostructure_txt = clean_macrostructure_txt.replace(key, value)\n",
    "clean_macrostructure = json.loads(clean_macrostructure_txt) # .encode(\"utf-8\")\n",
    "\n",
    "\n",
    "# clean_macrostructure_txt = json.dumps(clean_macrostructure)\n",
    "# clean_macrostructure_txt.encode('utf-8').decode('unicode_escape')\n",
    "# # for key, value in escape_chars.items():\n",
    "# #     clean_macrostructure_txt.replace(key, value)\n",
    "# clean_macrostructure = json.loads(clean_macrostructure_txt)"
   ]
  },
  {
   "cell_type": "markdown",
   "metadata": {},
   "source": [
    "Remove \"[54] \" pattern from author names"
   ]
  },
  {
   "cell_type": "code",
   "execution_count": 57,
   "metadata": {},
   "outputs": [],
   "source": [
    "# for json_item in clean_macrostructure:\n",
    "#     for author in json_item[\"authors\"]:\n",
    "#         for i in range(0,50):\n",
    "#             author.replace(\"[{}] \".format(i), \"\")\n",
    "# import tqdm\n",
    "# clean_macrostructure_txt = json.dumps(clean_macrostructure)\n",
    "# for i in tqdm(range(0,50)):\n",
    "#     clean_macrostructure_txt = clean_macrostructure_txt.replace(\"[{}] \".format(i), \"\")\n",
    "# clean_macrostructure = json.loads(clean_macrostructure_txt)\n",
    "#         for key, value in escape_chars:\n",
    "#             author.replace(key, value)\n",
    "#         clean_macrostructure.append(json_item[\"full_response\"][\"body\"])"
   ]
  },
  {
   "cell_type": "markdown",
   "metadata": {},
   "source": [
    "Clear References authors field"
   ]
  },
  {
   "cell_type": "markdown",
   "metadata": {},
   "source": [
    "Save the clean macrostructure in a file"
   ]
  },
  {
   "cell_type": "code",
   "execution_count": 18,
   "metadata": {},
   "outputs": [],
   "source": [
    "with open(\"resources/macrostructure.json\", \"w\") as clean_macrostructure_file:\n",
    "    clean_macrostructure_file.write(json.dumps(clean_macrostructure, indent=4, sort_keys=True))"
   ]
  }
 ],
 "metadata": {
  "interpreter": {
   "hash": "0112ecd31da0a836994aaee7a45b70c49336d49709ef196cdae4b20f932ea2d3"
  },
  "kernelspec": {
   "display_name": "Python 3.8.10 ('.venv': venv)",
   "language": "python",
   "name": "python3"
  },
  "language_info": {
   "codemirror_mode": {
    "name": "ipython",
    "version": 3
   },
   "file_extension": ".py",
   "mimetype": "text/x-python",
   "name": "python",
   "nbconvert_exporter": "python",
   "pygments_lexer": "ipython3",
   "version": "3.8.10"
  },
  "orig_nbformat": 4
 },
 "nbformat": 4,
 "nbformat_minor": 2
}
