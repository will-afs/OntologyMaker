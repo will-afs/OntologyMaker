{
 "cells": [
  {
   "cell_type": "markdown",
   "metadata": {},
   "source": [
    "# Import articles from macrostructure.json"
   ]
  },
  {
   "cell_type": "code",
   "execution_count": 1,
   "metadata": {},
   "outputs": [],
   "source": [
    "import json\n",
    "\n",
    "with open(\"resources/macrostructure.json\", \"r\") as macrostructure_file:\n",
    "    articles_list = json.load(macrostructure_file)"
   ]
  },
  {
   "cell_type": "markdown",
   "metadata": {},
   "source": [
    "# Create Ontology"
   ]
  },
  {
   "cell_type": "code",
   "execution_count": 2,
   "metadata": {},
   "outputs": [
    {
     "name": "stderr",
     "output_type": "stream",
     "text": [
      "* Owlready2 * Warning: optimized Cython parser module 'owlready2_optimized' is not available, defaulting to slower Python implementation\n"
     ]
    }
   ],
   "source": [
    "from owlready2 import owlready2, get_ontology, sync_reasoner_pellet, Thing, Not, And, default_world, AllDifferent, AllDisjoint, Imp"
   ]
  },
  {
   "cell_type": "code",
   "execution_count": 3,
   "metadata": {},
   "outputs": [],
   "source": [
    "owlready2.JAVA_EXE='/usr/bin/java'"
   ]
  },
  {
   "cell_type": "code",
   "execution_count": 4,
   "metadata": {},
   "outputs": [],
   "source": [
    "# Fetch root ontology\n",
    "onto = get_ontology(\"http://authors_relations.org/onto.owl\")"
   ]
  },
  {
   "cell_type": "code",
   "execution_count": 5,
   "metadata": {},
   "outputs": [],
   "source": [
    "# Create ontology classes\n",
    "with onto :\n",
    "    class Author(Thing):\n",
    "        pass\n",
    "\n",
    "    class Article(Thing):\n",
    "        # uri of an article is its uri in arxiv\n",
    "        is_a = [Not(onto.Author)]\n",
    "\n",
    "    class is_author_of(Author >> Article): pass\n",
    "\n",
    "    class is_written_by(Article >> Author): pass\n",
    "    \n",
    "    class cites(Author >> Author): pass\n",
    "\n",
    "    class worked_with(Author >> Author): pass\n",
    "\n",
    "    class is_cited_by(Author >> Author):\n",
    "        inverse_property = cites\n",
    "\n",
    "    class is_cited_in(Author >> Article): pass\n",
    "\n",
    "    class CitedAuthor(Thing):\n",
    "        # as a Person who teaches some Course\n",
    "        equivalent_to = [And([Author, is_cited_by.some(Author), is_cited_in.some(Article)])]"
   ]
  },
  {
   "cell_type": "code",
   "execution_count": 6,
   "metadata": {},
   "outputs": [],
   "source": [
    "# Data preprocessing\n",
    "\n"
   ]
  },
  {
   "cell_type": "code",
   "execution_count": null,
   "metadata": {},
   "outputs": [],
   "source": [
    "from cleaner_utils.cleaner_custom import escape_iri, escape_value\n",
    "\n",
    "# Populating individuals in ontology\n",
    "with onto:\n",
    "    for article in articles_list:\n",
    "        uri = article['uri']\n",
    "        urn = uri.replace(\"http://arxiv.org/pdf/cs/\",\"\")\n",
    "        article_object = onto.Article(\n",
    "            urn=escape_iri(urn),\n",
    "            )\n",
    "        for article_author in article['authors']:\n",
    "            try:\n",
    "                # Look for article_author (if already created in ontology)\n",
    "                author_object = onto.search(iri=\"*{}\".format(escape_iri(article_author)))[0]\n",
    "            except IndexError:\n",
    "                # Create it otherwise\n",
    "                author_object = onto.Author(\n",
    "                    name=escape_iri(article_author)\n",
    "                )\n",
    "            article_object.is_written_by.append(author_object)\n",
    "        for reference in article['references']:\n",
    "            for cited_author in reference['authors']:\n",
    "                try:\n",
    "                    # Look for cited_author (if already created in ontology)\n",
    "                    cited_author_object = onto.search(iri=\"*{}\".format(escape_iri(cited_author)))[0]\n",
    "                except IndexError:\n",
    "                    # Create it otherwise\n",
    "                    cited_author_object = onto.Author(\n",
    "                        name=escape_iri(cited_author)\n",
    "                    )\n",
    "                cited_author_object = onto.Author(\n",
    "                    name=escape_iri(cited_author)\n",
    "                )\n",
    "                if article_object not in cited_author_object.is_cited_in:\n",
    "                    cited_author_object.is_cited_in.append(article_object)\n",
    "            \n",
    "    print(onto.Article.instances())"
   ]
  },
  {
   "cell_type": "code",
   "execution_count": 8,
   "metadata": {},
   "outputs": [],
   "source": [
    "# Defining reasoner rules\n"
   ]
  },
  {
   "cell_type": "code",
   "execution_count": null,
   "metadata": {},
   "outputs": [],
   "source": [
    "# Applying rules by reasoning"
   ]
  },
  {
   "cell_type": "code",
   "execution_count": null,
   "metadata": {},
   "outputs": [],
   "source": [
    "# Save the ontology\n",
    "onto.save(file = \"authors_relations.owl\")"
   ]
  },
  {
   "cell_type": "code",
   "execution_count": null,
   "metadata": {},
   "outputs": [],
   "source": [
    "# Case permet de réinitialiser les instances enregistrées\n",
    "for individual in Author.instances(): \n",
    "    destroy_entity(individual)\n",
    "\n",
    "for individual in ReferencedAuthor.instances(): \n",
    "    destroy_entity(individual)\n",
    "\n",
    "for individual in Article.instances(): \n",
    "    destroy_entity(individual)"
   ]
  }
 ],
 "metadata": {
  "interpreter": {
   "hash": "b77770f66b54ee3b66e0336be670941170105acf4e3853567ca5709bd62588f7"
  },
  "kernelspec": {
   "display_name": "Python 3.10.4 ('.venv': venv)",
   "language": "python",
   "name": "python3"
  },
  "language_info": {
   "codemirror_mode": {
    "name": "ipython",
    "version": 3
   },
   "file_extension": ".py",
   "mimetype": "text/x-python",
   "name": "python",
   "nbconvert_exporter": "python",
   "pygments_lexer": "ipython3",
   "version": "3.8.10"
  },
  "orig_nbformat": 4
 },
 "nbformat": 4,
 "nbformat_minor": 2
}
